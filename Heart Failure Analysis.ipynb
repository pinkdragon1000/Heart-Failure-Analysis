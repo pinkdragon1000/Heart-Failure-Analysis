{
 "cells": [
  {
   "cell_type": "markdown",
   "metadata": {},
   "source": [
    "<h3>Health Failure Analysis</h3>"
   ]
  },
  {
   "cell_type": "markdown",
   "metadata": {},
   "source": [
    "Imports"
   ]
  },
  {
   "cell_type": "code",
   "execution_count": 72,
   "metadata": {},
   "outputs": [
    {
     "name": "stderr",
     "output_type": "stream",
     "text": [
      "┌ Info: Precompiling StatsPlots [f3b207a7-027a-5e70-b257-86293d7955fd]\n",
      "└ @ Base loading.jl:1278\n",
      "WARNING: could not import Tables.select into StatsPlots\n"
     ]
    }
   ],
   "source": [
    "using DataFrames\n",
    "using CSV\n",
    "using Plots\n",
    "using StatsPlots"
   ]
  },
  {
   "cell_type": "markdown",
   "metadata": {},
   "source": [
    "Loading data"
   ]
  },
  {
   "cell_type": "code",
   "execution_count": 56,
   "metadata": {},
   "outputs": [
    {
     "data": {
      "text/plain": [
       "300"
      ]
     },
     "execution_count": 56,
     "metadata": {},
     "output_type": "execute_result"
    }
   ],
   "source": [
    "ENV[\"COLUMNS\"] = 300"
   ]
  },
  {
   "cell_type": "code",
   "execution_count": 58,
   "metadata": {},
   "outputs": [
    {
     "data": {
      "text/html": [
       "<table class=\"data-frame\"><thead><tr><th></th><th>age</th><th>anaemia</th><th>creatinine_phosphokinase</th><th>diabetes</th><th>ejection_fraction</th><th>high_blood_pressure</th><th>platelets</th><th>serum_creatinine</th><th>serum_sodium</th><th>sex</th><th>smoking</th><th>time</th><th>DEATH_EVENT</th></tr><tr><th></th><th>Float64</th><th>Int64</th><th>Int64</th><th>Int64</th><th>Int64</th><th>Int64</th><th>Float64</th><th>Float64</th><th>Int64</th><th>Int64</th><th>Int64</th><th>Int64</th><th>Int64</th></tr></thead><tbody><p>299 rows × 13 columns</p><tr><th>1</th><td>75.0</td><td>0</td><td>582</td><td>0</td><td>20</td><td>1</td><td>265000.0</td><td>1.9</td><td>130</td><td>1</td><td>0</td><td>4</td><td>1</td></tr><tr><th>2</th><td>55.0</td><td>0</td><td>7861</td><td>0</td><td>38</td><td>0</td><td>263358.0</td><td>1.1</td><td>136</td><td>1</td><td>0</td><td>6</td><td>1</td></tr><tr><th>3</th><td>65.0</td><td>0</td><td>146</td><td>0</td><td>20</td><td>0</td><td>162000.0</td><td>1.3</td><td>129</td><td>1</td><td>1</td><td>7</td><td>1</td></tr><tr><th>4</th><td>50.0</td><td>1</td><td>111</td><td>0</td><td>20</td><td>0</td><td>210000.0</td><td>1.9</td><td>137</td><td>1</td><td>0</td><td>7</td><td>1</td></tr><tr><th>5</th><td>65.0</td><td>1</td><td>160</td><td>1</td><td>20</td><td>0</td><td>327000.0</td><td>2.7</td><td>116</td><td>0</td><td>0</td><td>8</td><td>1</td></tr><tr><th>6</th><td>90.0</td><td>1</td><td>47</td><td>0</td><td>40</td><td>1</td><td>204000.0</td><td>2.1</td><td>132</td><td>1</td><td>1</td><td>8</td><td>1</td></tr><tr><th>7</th><td>75.0</td><td>1</td><td>246</td><td>0</td><td>15</td><td>0</td><td>127000.0</td><td>1.2</td><td>137</td><td>1</td><td>0</td><td>10</td><td>1</td></tr><tr><th>8</th><td>60.0</td><td>1</td><td>315</td><td>1</td><td>60</td><td>0</td><td>454000.0</td><td>1.1</td><td>131</td><td>1</td><td>1</td><td>10</td><td>1</td></tr><tr><th>9</th><td>65.0</td><td>0</td><td>157</td><td>0</td><td>65</td><td>0</td><td>263358.0</td><td>1.5</td><td>138</td><td>0</td><td>0</td><td>10</td><td>1</td></tr><tr><th>10</th><td>80.0</td><td>1</td><td>123</td><td>0</td><td>35</td><td>1</td><td>388000.0</td><td>9.4</td><td>133</td><td>1</td><td>1</td><td>10</td><td>1</td></tr><tr><th>11</th><td>75.0</td><td>1</td><td>81</td><td>0</td><td>38</td><td>1</td><td>368000.0</td><td>4.0</td><td>131</td><td>1</td><td>1</td><td>10</td><td>1</td></tr><tr><th>12</th><td>62.0</td><td>0</td><td>231</td><td>0</td><td>25</td><td>1</td><td>253000.0</td><td>0.9</td><td>140</td><td>1</td><td>1</td><td>10</td><td>1</td></tr><tr><th>13</th><td>45.0</td><td>1</td><td>981</td><td>0</td><td>30</td><td>0</td><td>136000.0</td><td>1.1</td><td>137</td><td>1</td><td>0</td><td>11</td><td>1</td></tr><tr><th>14</th><td>50.0</td><td>1</td><td>168</td><td>0</td><td>38</td><td>1</td><td>276000.0</td><td>1.1</td><td>137</td><td>1</td><td>0</td><td>11</td><td>1</td></tr><tr><th>15</th><td>49.0</td><td>1</td><td>80</td><td>0</td><td>30</td><td>1</td><td>427000.0</td><td>1.0</td><td>138</td><td>0</td><td>0</td><td>12</td><td>0</td></tr><tr><th>16</th><td>82.0</td><td>1</td><td>379</td><td>0</td><td>50</td><td>0</td><td>47000.0</td><td>1.3</td><td>136</td><td>1</td><td>0</td><td>13</td><td>1</td></tr><tr><th>17</th><td>87.0</td><td>1</td><td>149</td><td>0</td><td>38</td><td>0</td><td>262000.0</td><td>0.9</td><td>140</td><td>1</td><td>0</td><td>14</td><td>1</td></tr><tr><th>18</th><td>45.0</td><td>0</td><td>582</td><td>0</td><td>14</td><td>0</td><td>166000.0</td><td>0.8</td><td>127</td><td>1</td><td>0</td><td>14</td><td>1</td></tr><tr><th>19</th><td>70.0</td><td>1</td><td>125</td><td>0</td><td>25</td><td>1</td><td>237000.0</td><td>1.0</td><td>140</td><td>0</td><td>0</td><td>15</td><td>1</td></tr><tr><th>20</th><td>48.0</td><td>1</td><td>582</td><td>1</td><td>55</td><td>0</td><td>87000.0</td><td>1.9</td><td>121</td><td>0</td><td>0</td><td>15</td><td>1</td></tr><tr><th>&vellip;</th><td>&vellip;</td><td>&vellip;</td><td>&vellip;</td><td>&vellip;</td><td>&vellip;</td><td>&vellip;</td><td>&vellip;</td><td>&vellip;</td><td>&vellip;</td><td>&vellip;</td><td>&vellip;</td><td>&vellip;</td><td>&vellip;</td></tr></tbody></table>"
      ],
      "text/latex": [
       "\\begin{tabular}{r|ccccccccccccc}\n",
       "\t& age & anaemia & creatinine\\_phosphokinase & diabetes & ejection\\_fraction & high\\_blood\\_pressure & platelets & serum\\_creatinine & serum\\_sodium & sex & smoking & time & DEATH\\_EVENT\\\\\n",
       "\t\\hline\n",
       "\t& Float64 & Int64 & Int64 & Int64 & Int64 & Int64 & Float64 & Float64 & Int64 & Int64 & Int64 & Int64 & Int64\\\\\n",
       "\t\\hline\n",
       "\t1 & 75.0 & 0 & 582 & 0 & 20 & 1 & 265000.0 & 1.9 & 130 & 1 & 0 & 4 & 1 \\\\\n",
       "\t2 & 55.0 & 0 & 7861 & 0 & 38 & 0 & 263358.0 & 1.1 & 136 & 1 & 0 & 6 & 1 \\\\\n",
       "\t3 & 65.0 & 0 & 146 & 0 & 20 & 0 & 162000.0 & 1.3 & 129 & 1 & 1 & 7 & 1 \\\\\n",
       "\t4 & 50.0 & 1 & 111 & 0 & 20 & 0 & 210000.0 & 1.9 & 137 & 1 & 0 & 7 & 1 \\\\\n",
       "\t5 & 65.0 & 1 & 160 & 1 & 20 & 0 & 327000.0 & 2.7 & 116 & 0 & 0 & 8 & 1 \\\\\n",
       "\t6 & 90.0 & 1 & 47 & 0 & 40 & 1 & 204000.0 & 2.1 & 132 & 1 & 1 & 8 & 1 \\\\\n",
       "\t7 & 75.0 & 1 & 246 & 0 & 15 & 0 & 127000.0 & 1.2 & 137 & 1 & 0 & 10 & 1 \\\\\n",
       "\t8 & 60.0 & 1 & 315 & 1 & 60 & 0 & 454000.0 & 1.1 & 131 & 1 & 1 & 10 & 1 \\\\\n",
       "\t9 & 65.0 & 0 & 157 & 0 & 65 & 0 & 263358.0 & 1.5 & 138 & 0 & 0 & 10 & 1 \\\\\n",
       "\t10 & 80.0 & 1 & 123 & 0 & 35 & 1 & 388000.0 & 9.4 & 133 & 1 & 1 & 10 & 1 \\\\\n",
       "\t11 & 75.0 & 1 & 81 & 0 & 38 & 1 & 368000.0 & 4.0 & 131 & 1 & 1 & 10 & 1 \\\\\n",
       "\t12 & 62.0 & 0 & 231 & 0 & 25 & 1 & 253000.0 & 0.9 & 140 & 1 & 1 & 10 & 1 \\\\\n",
       "\t13 & 45.0 & 1 & 981 & 0 & 30 & 0 & 136000.0 & 1.1 & 137 & 1 & 0 & 11 & 1 \\\\\n",
       "\t14 & 50.0 & 1 & 168 & 0 & 38 & 1 & 276000.0 & 1.1 & 137 & 1 & 0 & 11 & 1 \\\\\n",
       "\t15 & 49.0 & 1 & 80 & 0 & 30 & 1 & 427000.0 & 1.0 & 138 & 0 & 0 & 12 & 0 \\\\\n",
       "\t16 & 82.0 & 1 & 379 & 0 & 50 & 0 & 47000.0 & 1.3 & 136 & 1 & 0 & 13 & 1 \\\\\n",
       "\t17 & 87.0 & 1 & 149 & 0 & 38 & 0 & 262000.0 & 0.9 & 140 & 1 & 0 & 14 & 1 \\\\\n",
       "\t18 & 45.0 & 0 & 582 & 0 & 14 & 0 & 166000.0 & 0.8 & 127 & 1 & 0 & 14 & 1 \\\\\n",
       "\t19 & 70.0 & 1 & 125 & 0 & 25 & 1 & 237000.0 & 1.0 & 140 & 0 & 0 & 15 & 1 \\\\\n",
       "\t20 & 48.0 & 1 & 582 & 1 & 55 & 0 & 87000.0 & 1.9 & 121 & 0 & 0 & 15 & 1 \\\\\n",
       "\t$\\dots$ & $\\dots$ & $\\dots$ & $\\dots$ & $\\dots$ & $\\dots$ & $\\dots$ & $\\dots$ & $\\dots$ & $\\dots$ & $\\dots$ & $\\dots$ & $\\dots$ & $\\dots$ \\\\\n",
       "\\end{tabular}\n"
      ],
      "text/plain": [
       "299×13 DataFrame\n",
       "│ Row │ age     │ anaemia │ creatinine_phosphokinase │ diabetes │ ejection_fraction │ high_blood_pressure │ platelets │ serum_creatinine │ serum_sodium │ sex   │ smoking │ time  │ DEATH_EVENT │\n",
       "│     │ \u001b[90mFloat64\u001b[39m │ \u001b[90mInt64\u001b[39m   │ \u001b[90mInt64\u001b[39m                    │ \u001b[90mInt64\u001b[39m    │ \u001b[90mInt64\u001b[39m             │ \u001b[90mInt64\u001b[39m               │ \u001b[90mFloat64\u001b[39m   │ \u001b[90mFloat64\u001b[39m          │ \u001b[90mInt64\u001b[39m        │ \u001b[90mInt64\u001b[39m │ \u001b[90mInt64\u001b[39m   │ \u001b[90mInt64\u001b[39m │ \u001b[90mInt64\u001b[39m       │\n",
       "├─────┼─────────┼─────────┼──────────────────────────┼──────────┼───────────────────┼─────────────────────┼───────────┼──────────────────┼──────────────┼───────┼─────────┼───────┼─────────────┤\n",
       "│ 1   │ 75.0    │ 0       │ 582                      │ 0        │ 20                │ 1                   │ 265000.0  │ 1.9              │ 130          │ 1     │ 0       │ 4     │ 1           │\n",
       "│ 2   │ 55.0    │ 0       │ 7861                     │ 0        │ 38                │ 0                   │ 263358.0  │ 1.1              │ 136          │ 1     │ 0       │ 6     │ 1           │\n",
       "│ 3   │ 65.0    │ 0       │ 146                      │ 0        │ 20                │ 0                   │ 162000.0  │ 1.3              │ 129          │ 1     │ 1       │ 7     │ 1           │\n",
       "│ 4   │ 50.0    │ 1       │ 111                      │ 0        │ 20                │ 0                   │ 210000.0  │ 1.9              │ 137          │ 1     │ 0       │ 7     │ 1           │\n",
       "│ 5   │ 65.0    │ 1       │ 160                      │ 1        │ 20                │ 0                   │ 327000.0  │ 2.7              │ 116          │ 0     │ 0       │ 8     │ 1           │\n",
       "⋮\n",
       "│ 294 │ 63.0    │ 1       │ 103                      │ 1        │ 35                │ 0                   │ 179000.0  │ 0.9              │ 136          │ 1     │ 1       │ 270   │ 0           │\n",
       "│ 295 │ 62.0    │ 0       │ 61                       │ 1        │ 38                │ 1                   │ 155000.0  │ 1.1              │ 143          │ 1     │ 1       │ 270   │ 0           │\n",
       "│ 296 │ 55.0    │ 0       │ 1820                     │ 0        │ 38                │ 0                   │ 270000.0  │ 1.2              │ 139          │ 0     │ 0       │ 271   │ 0           │\n",
       "│ 297 │ 45.0    │ 0       │ 2060                     │ 1        │ 60                │ 0                   │ 742000.0  │ 0.8              │ 138          │ 0     │ 0       │ 278   │ 0           │\n",
       "│ 298 │ 45.0    │ 0       │ 2413                     │ 0        │ 38                │ 0                   │ 140000.0  │ 1.4              │ 140          │ 1     │ 1       │ 280   │ 0           │\n",
       "│ 299 │ 50.0    │ 0       │ 196                      │ 0        │ 45                │ 0                   │ 395000.0  │ 1.6              │ 136          │ 1     │ 1       │ 285   │ 0           │"
      ]
     },
     "execution_count": 58,
     "metadata": {},
     "output_type": "execute_result"
    }
   ],
   "source": [
    "df=CSV.read(\"heart_failure_clinical_records_dataset.csv\")"
   ]
  },
  {
   "cell_type": "markdown",
   "metadata": {},
   "source": [
    "First 6 rows of data"
   ]
  },
  {
   "cell_type": "code",
   "execution_count": 59,
   "metadata": {},
   "outputs": [
    {
     "data": {
      "text/html": [
       "<table class=\"data-frame\"><thead><tr><th></th><th>age</th><th>anaemia</th><th>creatinine_phosphokinase</th><th>diabetes</th><th>ejection_fraction</th><th>high_blood_pressure</th><th>platelets</th><th>serum_creatinine</th><th>serum_sodium</th><th>sex</th><th>smoking</th><th>time</th><th>DEATH_EVENT</th></tr><tr><th></th><th>Float64</th><th>Int64</th><th>Int64</th><th>Int64</th><th>Int64</th><th>Int64</th><th>Float64</th><th>Float64</th><th>Int64</th><th>Int64</th><th>Int64</th><th>Int64</th><th>Int64</th></tr></thead><tbody><p>6 rows × 13 columns</p><tr><th>1</th><td>75.0</td><td>0</td><td>582</td><td>0</td><td>20</td><td>1</td><td>265000.0</td><td>1.9</td><td>130</td><td>1</td><td>0</td><td>4</td><td>1</td></tr><tr><th>2</th><td>55.0</td><td>0</td><td>7861</td><td>0</td><td>38</td><td>0</td><td>263358.0</td><td>1.1</td><td>136</td><td>1</td><td>0</td><td>6</td><td>1</td></tr><tr><th>3</th><td>65.0</td><td>0</td><td>146</td><td>0</td><td>20</td><td>0</td><td>162000.0</td><td>1.3</td><td>129</td><td>1</td><td>1</td><td>7</td><td>1</td></tr><tr><th>4</th><td>50.0</td><td>1</td><td>111</td><td>0</td><td>20</td><td>0</td><td>210000.0</td><td>1.9</td><td>137</td><td>1</td><td>0</td><td>7</td><td>1</td></tr><tr><th>5</th><td>65.0</td><td>1</td><td>160</td><td>1</td><td>20</td><td>0</td><td>327000.0</td><td>2.7</td><td>116</td><td>0</td><td>0</td><td>8</td><td>1</td></tr><tr><th>6</th><td>90.0</td><td>1</td><td>47</td><td>0</td><td>40</td><td>1</td><td>204000.0</td><td>2.1</td><td>132</td><td>1</td><td>1</td><td>8</td><td>1</td></tr></tbody></table>"
      ],
      "text/latex": [
       "\\begin{tabular}{r|ccccccccccccc}\n",
       "\t& age & anaemia & creatinine\\_phosphokinase & diabetes & ejection\\_fraction & high\\_blood\\_pressure & platelets & serum\\_creatinine & serum\\_sodium & sex & smoking & time & DEATH\\_EVENT\\\\\n",
       "\t\\hline\n",
       "\t& Float64 & Int64 & Int64 & Int64 & Int64 & Int64 & Float64 & Float64 & Int64 & Int64 & Int64 & Int64 & Int64\\\\\n",
       "\t\\hline\n",
       "\t1 & 75.0 & 0 & 582 & 0 & 20 & 1 & 265000.0 & 1.9 & 130 & 1 & 0 & 4 & 1 \\\\\n",
       "\t2 & 55.0 & 0 & 7861 & 0 & 38 & 0 & 263358.0 & 1.1 & 136 & 1 & 0 & 6 & 1 \\\\\n",
       "\t3 & 65.0 & 0 & 146 & 0 & 20 & 0 & 162000.0 & 1.3 & 129 & 1 & 1 & 7 & 1 \\\\\n",
       "\t4 & 50.0 & 1 & 111 & 0 & 20 & 0 & 210000.0 & 1.9 & 137 & 1 & 0 & 7 & 1 \\\\\n",
       "\t5 & 65.0 & 1 & 160 & 1 & 20 & 0 & 327000.0 & 2.7 & 116 & 0 & 0 & 8 & 1 \\\\\n",
       "\t6 & 90.0 & 1 & 47 & 0 & 40 & 1 & 204000.0 & 2.1 & 132 & 1 & 1 & 8 & 1 \\\\\n",
       "\\end{tabular}\n"
      ],
      "text/plain": [
       "6×13 DataFrame\n",
       "│ Row │ age     │ anaemia │ creatinine_phosphokinase │ diabetes │ ejection_fraction │ high_blood_pressure │ platelets │ serum_creatinine │ serum_sodium │ sex   │ smoking │ time  │ DEATH_EVENT │\n",
       "│     │ \u001b[90mFloat64\u001b[39m │ \u001b[90mInt64\u001b[39m   │ \u001b[90mInt64\u001b[39m                    │ \u001b[90mInt64\u001b[39m    │ \u001b[90mInt64\u001b[39m             │ \u001b[90mInt64\u001b[39m               │ \u001b[90mFloat64\u001b[39m   │ \u001b[90mFloat64\u001b[39m          │ \u001b[90mInt64\u001b[39m        │ \u001b[90mInt64\u001b[39m │ \u001b[90mInt64\u001b[39m   │ \u001b[90mInt64\u001b[39m │ \u001b[90mInt64\u001b[39m       │\n",
       "├─────┼─────────┼─────────┼──────────────────────────┼──────────┼───────────────────┼─────────────────────┼───────────┼──────────────────┼──────────────┼───────┼─────────┼───────┼─────────────┤\n",
       "│ 1   │ 75.0    │ 0       │ 582                      │ 0        │ 20                │ 1                   │ 265000.0  │ 1.9              │ 130          │ 1     │ 0       │ 4     │ 1           │\n",
       "│ 2   │ 55.0    │ 0       │ 7861                     │ 0        │ 38                │ 0                   │ 263358.0  │ 1.1              │ 136          │ 1     │ 0       │ 6     │ 1           │\n",
       "│ 3   │ 65.0    │ 0       │ 146                      │ 0        │ 20                │ 0                   │ 162000.0  │ 1.3              │ 129          │ 1     │ 1       │ 7     │ 1           │\n",
       "│ 4   │ 50.0    │ 1       │ 111                      │ 0        │ 20                │ 0                   │ 210000.0  │ 1.9              │ 137          │ 1     │ 0       │ 7     │ 1           │\n",
       "│ 5   │ 65.0    │ 1       │ 160                      │ 1        │ 20                │ 0                   │ 327000.0  │ 2.7              │ 116          │ 0     │ 0       │ 8     │ 1           │\n",
       "│ 6   │ 90.0    │ 1       │ 47                       │ 0        │ 40                │ 1                   │ 204000.0  │ 2.1              │ 132          │ 1     │ 1       │ 8     │ 1           │"
      ]
     },
     "execution_count": 59,
     "metadata": {},
     "output_type": "execute_result"
    }
   ],
   "source": [
    "head(df)"
   ]
  },
  {
   "cell_type": "markdown",
   "metadata": {},
   "source": [
    "Columns"
   ]
  },
  {
   "cell_type": "code",
   "execution_count": 61,
   "metadata": {},
   "outputs": [
    {
     "data": {
      "text/plain": [
       "13-element Array{String,1}:\n",
       " \"age\"\n",
       " \"anaemia\"\n",
       " \"creatinine_phosphokinase\"\n",
       " \"diabetes\"\n",
       " \"ejection_fraction\"\n",
       " \"high_blood_pressure\"\n",
       " \"platelets\"\n",
       " \"serum_creatinine\"\n",
       " \"serum_sodium\"\n",
       " \"sex\"\n",
       " \"smoking\"\n",
       " \"time\"\n",
       " \"DEATH_EVENT\""
      ]
     },
     "execution_count": 61,
     "metadata": {},
     "output_type": "execute_result"
    }
   ],
   "source": [
    "names(df)"
   ]
  },
  {
   "cell_type": "markdown",
   "metadata": {},
   "source": [
    "Shape of dataframe (rows, columns)"
   ]
  },
  {
   "cell_type": "code",
   "execution_count": 16,
   "metadata": {},
   "outputs": [
    {
     "data": {
      "text/plain": [
       "(299, 13)"
      ]
     },
     "execution_count": 16,
     "metadata": {},
     "output_type": "execute_result"
    }
   ],
   "source": [
    "size(df)"
   ]
  },
  {
   "cell_type": "markdown",
   "metadata": {},
   "source": [
    "Dataframe Statistics"
   ]
  },
  {
   "cell_type": "code",
   "execution_count": 60,
   "metadata": {},
   "outputs": [
    {
     "data": {
      "text/html": [
       "<table class=\"data-frame\"><thead><tr><th></th><th>variable</th><th>mean</th><th>min</th><th>median</th><th>max</th><th>nunique</th><th>nmissing</th><th>eltype</th></tr><tr><th></th><th>Symbol</th><th>Float64</th><th>Real</th><th>Float64</th><th>Real</th><th>Nothing</th><th>Nothing</th><th>DataType</th></tr></thead><tbody><p>13 rows × 8 columns</p><tr><th>1</th><td>age</td><td>60.8339</td><td>40.0</td><td>60.0</td><td>95.0</td><td></td><td></td><td>Float64</td></tr><tr><th>2</th><td>anaemia</td><td>0.431438</td><td>0</td><td>0.0</td><td>1</td><td></td><td></td><td>Int64</td></tr><tr><th>3</th><td>creatinine_phosphokinase</td><td>581.839</td><td>23</td><td>250.0</td><td>7861</td><td></td><td></td><td>Int64</td></tr><tr><th>4</th><td>diabetes</td><td>0.41806</td><td>0</td><td>0.0</td><td>1</td><td></td><td></td><td>Int64</td></tr><tr><th>5</th><td>ejection_fraction</td><td>38.0836</td><td>14</td><td>38.0</td><td>80</td><td></td><td></td><td>Int64</td></tr><tr><th>6</th><td>high_blood_pressure</td><td>0.351171</td><td>0</td><td>0.0</td><td>1</td><td></td><td></td><td>Int64</td></tr><tr><th>7</th><td>platelets</td><td>263358.0</td><td>25100.0</td><td>262000.0</td><td>850000.0</td><td></td><td></td><td>Float64</td></tr><tr><th>8</th><td>serum_creatinine</td><td>1.39388</td><td>0.5</td><td>1.1</td><td>9.4</td><td></td><td></td><td>Float64</td></tr><tr><th>9</th><td>serum_sodium</td><td>136.625</td><td>113</td><td>137.0</td><td>148</td><td></td><td></td><td>Int64</td></tr><tr><th>10</th><td>sex</td><td>0.648829</td><td>0</td><td>1.0</td><td>1</td><td></td><td></td><td>Int64</td></tr><tr><th>11</th><td>smoking</td><td>0.32107</td><td>0</td><td>0.0</td><td>1</td><td></td><td></td><td>Int64</td></tr><tr><th>12</th><td>time</td><td>130.261</td><td>4</td><td>115.0</td><td>285</td><td></td><td></td><td>Int64</td></tr><tr><th>13</th><td>DEATH_EVENT</td><td>0.32107</td><td>0</td><td>0.0</td><td>1</td><td></td><td></td><td>Int64</td></tr></tbody></table>"
      ],
      "text/latex": [
       "\\begin{tabular}{r|cccccccc}\n",
       "\t& variable & mean & min & median & max & nunique & nmissing & eltype\\\\\n",
       "\t\\hline\n",
       "\t& Symbol & Float64 & Real & Float64 & Real & Nothing & Nothing & DataType\\\\\n",
       "\t\\hline\n",
       "\t1 & age & 60.8339 & 40.0 & 60.0 & 95.0 &  &  & Float64 \\\\\n",
       "\t2 & anaemia & 0.431438 & 0 & 0.0 & 1 &  &  & Int64 \\\\\n",
       "\t3 & creatinine\\_phosphokinase & 581.839 & 23 & 250.0 & 7861 &  &  & Int64 \\\\\n",
       "\t4 & diabetes & 0.41806 & 0 & 0.0 & 1 &  &  & Int64 \\\\\n",
       "\t5 & ejection\\_fraction & 38.0836 & 14 & 38.0 & 80 &  &  & Int64 \\\\\n",
       "\t6 & high\\_blood\\_pressure & 0.351171 & 0 & 0.0 & 1 &  &  & Int64 \\\\\n",
       "\t7 & platelets & 263358.0 & 25100.0 & 262000.0 & 850000.0 &  &  & Float64 \\\\\n",
       "\t8 & serum\\_creatinine & 1.39388 & 0.5 & 1.1 & 9.4 &  &  & Float64 \\\\\n",
       "\t9 & serum\\_sodium & 136.625 & 113 & 137.0 & 148 &  &  & Int64 \\\\\n",
       "\t10 & sex & 0.648829 & 0 & 1.0 & 1 &  &  & Int64 \\\\\n",
       "\t11 & smoking & 0.32107 & 0 & 0.0 & 1 &  &  & Int64 \\\\\n",
       "\t12 & time & 130.261 & 4 & 115.0 & 285 &  &  & Int64 \\\\\n",
       "\t13 & DEATH\\_EVENT & 0.32107 & 0 & 0.0 & 1 &  &  & Int64 \\\\\n",
       "\\end{tabular}\n"
      ],
      "text/plain": [
       "13×8 DataFrame\n",
       "│ Row │ variable                 │ mean     │ min     │ median   │ max      │ nunique │ nmissing │ eltype   │\n",
       "│     │ \u001b[90mSymbol\u001b[39m                   │ \u001b[90mFloat64\u001b[39m  │ \u001b[90mReal\u001b[39m    │ \u001b[90mFloat64\u001b[39m  │ \u001b[90mReal\u001b[39m     │ \u001b[90mNothing\u001b[39m │ \u001b[90mNothing\u001b[39m  │ \u001b[90mDataType\u001b[39m │\n",
       "├─────┼──────────────────────────┼──────────┼─────────┼──────────┼──────────┼─────────┼──────────┼──────────┤\n",
       "│ 1   │ age                      │ 60.8339  │ 40.0    │ 60.0     │ 95.0     │         │          │ Float64  │\n",
       "│ 2   │ anaemia                  │ 0.431438 │ 0       │ 0.0      │ 1        │         │          │ Int64    │\n",
       "│ 3   │ creatinine_phosphokinase │ 581.839  │ 23      │ 250.0    │ 7861     │         │          │ Int64    │\n",
       "│ 4   │ diabetes                 │ 0.41806  │ 0       │ 0.0      │ 1        │         │          │ Int64    │\n",
       "│ 5   │ ejection_fraction        │ 38.0836  │ 14      │ 38.0     │ 80       │         │          │ Int64    │\n",
       "│ 6   │ high_blood_pressure      │ 0.351171 │ 0       │ 0.0      │ 1        │         │          │ Int64    │\n",
       "│ 7   │ platelets                │ 263358.0 │ 25100.0 │ 262000.0 │ 850000.0 │         │          │ Float64  │\n",
       "│ 8   │ serum_creatinine         │ 1.39388  │ 0.5     │ 1.1      │ 9.4      │         │          │ Float64  │\n",
       "│ 9   │ serum_sodium             │ 136.625  │ 113     │ 137.0    │ 148      │         │          │ Int64    │\n",
       "│ 10  │ sex                      │ 0.648829 │ 0       │ 1.0      │ 1        │         │          │ Int64    │\n",
       "│ 11  │ smoking                  │ 0.32107  │ 0       │ 0.0      │ 1        │         │          │ Int64    │\n",
       "│ 12  │ time                     │ 130.261  │ 4       │ 115.0    │ 285      │         │          │ Int64    │\n",
       "│ 13  │ DEATH_EVENT              │ 0.32107  │ 0       │ 0.0      │ 1        │         │          │ Int64    │"
      ]
     },
     "execution_count": 60,
     "metadata": {},
     "output_type": "execute_result"
    }
   ],
   "source": [
    "describe(df)"
   ]
  },
  {
   "cell_type": "code",
   "execution_count": 50,
   "metadata": {},
   "outputs": [
    {
     "data": {
      "text/html": [
       "<table class=\"data-frame\"><thead><tr><th></th><th>sex</th><th>DEATH_EVENT</th><th>count</th></tr><tr><th></th><th>Int64</th><th>Int64</th><th>Int64</th></tr></thead><tbody><p>4 rows × 3 columns</p><tr><th>1</th><td>1</td><td>1</td><td>62</td></tr><tr><th>2</th><td>0</td><td>1</td><td>34</td></tr><tr><th>3</th><td>0</td><td>0</td><td>71</td></tr><tr><th>4</th><td>1</td><td>0</td><td>132</td></tr></tbody></table>"
      ],
      "text/latex": [
       "\\begin{tabular}{r|ccc}\n",
       "\t& sex & DEATH\\_EVENT & count\\\\\n",
       "\t\\hline\n",
       "\t& Int64 & Int64 & Int64\\\\\n",
       "\t\\hline\n",
       "\t1 & 1 & 1 & 62 \\\\\n",
       "\t2 & 0 & 1 & 34 \\\\\n",
       "\t3 & 0 & 0 & 71 \\\\\n",
       "\t4 & 1 & 0 & 132 \\\\\n",
       "\\end{tabular}\n"
      ],
      "text/plain": [
       "4×3 DataFrame\n",
       "│ Row │ sex   │ DEATH_EVENT │ count │\n",
       "│     │ \u001b[90mInt64\u001b[39m │ \u001b[90mInt64\u001b[39m       │ \u001b[90mInt64\u001b[39m │\n",
       "├─────┼───────┼─────────────┼───────┤\n",
       "│ 1   │ 1     │ 1           │ 62    │\n",
       "│ 2   │ 0     │ 1           │ 34    │\n",
       "│ 3   │ 0     │ 0           │ 71    │\n",
       "│ 4   │ 1     │ 0           │ 132   │"
      ]
     },
     "execution_count": 50,
     "metadata": {},
     "output_type": "execute_result"
    }
   ],
   "source": [
    "combine(groupby(df, [:sex, :DEATH_EVENT]), nrow => :count)"
   ]
  },
  {
   "cell_type": "code",
   "execution_count": 52,
   "metadata": {},
   "outputs": [
    {
     "data": {
      "text/html": [
       "<table class=\"data-frame\"><thead><tr><th></th><th>sex</th><th>anaemia</th><th>count</th></tr><tr><th></th><th>Int64</th><th>Int64</th><th>Int64</th></tr></thead><tbody><p>4 rows × 3 columns</p><tr><th>1</th><td>1</td><td>0</td><td>117</td></tr><tr><th>2</th><td>1</td><td>1</td><td>77</td></tr><tr><th>3</th><td>0</td><td>1</td><td>52</td></tr><tr><th>4</th><td>0</td><td>0</td><td>53</td></tr></tbody></table>"
      ],
      "text/latex": [
       "\\begin{tabular}{r|ccc}\n",
       "\t& sex & anaemia & count\\\\\n",
       "\t\\hline\n",
       "\t& Int64 & Int64 & Int64\\\\\n",
       "\t\\hline\n",
       "\t1 & 1 & 0 & 117 \\\\\n",
       "\t2 & 1 & 1 & 77 \\\\\n",
       "\t3 & 0 & 1 & 52 \\\\\n",
       "\t4 & 0 & 0 & 53 \\\\\n",
       "\\end{tabular}\n"
      ],
      "text/plain": [
       "4×3 DataFrame\n",
       "│ Row │ sex   │ anaemia │ count │\n",
       "│     │ \u001b[90mInt64\u001b[39m │ \u001b[90mInt64\u001b[39m   │ \u001b[90mInt64\u001b[39m │\n",
       "├─────┼───────┼─────────┼───────┤\n",
       "│ 1   │ 1     │ 0       │ 117   │\n",
       "│ 2   │ 1     │ 1       │ 77    │\n",
       "│ 3   │ 0     │ 1       │ 52    │\n",
       "│ 4   │ 0     │ 0       │ 53    │"
      ]
     },
     "execution_count": 52,
     "metadata": {},
     "output_type": "execute_result"
    }
   ],
   "source": [
    "combine(groupby(df, [:sex, :anaemia]), nrow => :count)"
   ]
  },
  {
   "cell_type": "code",
   "execution_count": 53,
   "metadata": {},
   "outputs": [
    {
     "data": {
      "text/html": [
       "<table class=\"data-frame\"><thead><tr><th></th><th>sex</th><th>high_blood_pressure</th><th>count</th></tr><tr><th></th><th>Int64</th><th>Int64</th><th>Int64</th></tr></thead><tbody><p>4 rows × 3 columns</p><tr><th>1</th><td>1</td><td>1</td><td>61</td></tr><tr><th>2</th><td>1</td><td>0</td><td>133</td></tr><tr><th>3</th><td>0</td><td>0</td><td>61</td></tr><tr><th>4</th><td>0</td><td>1</td><td>44</td></tr></tbody></table>"
      ],
      "text/latex": [
       "\\begin{tabular}{r|ccc}\n",
       "\t& sex & high\\_blood\\_pressure & count\\\\\n",
       "\t\\hline\n",
       "\t& Int64 & Int64 & Int64\\\\\n",
       "\t\\hline\n",
       "\t1 & 1 & 1 & 61 \\\\\n",
       "\t2 & 1 & 0 & 133 \\\\\n",
       "\t3 & 0 & 0 & 61 \\\\\n",
       "\t4 & 0 & 1 & 44 \\\\\n",
       "\\end{tabular}\n"
      ],
      "text/plain": [
       "4×3 DataFrame\n",
       "│ Row │ sex   │ high_blood_pressure │ count │\n",
       "│     │ \u001b[90mInt64\u001b[39m │ \u001b[90mInt64\u001b[39m               │ \u001b[90mInt64\u001b[39m │\n",
       "├─────┼───────┼─────────────────────┼───────┤\n",
       "│ 1   │ 1     │ 1                   │ 61    │\n",
       "│ 2   │ 1     │ 0                   │ 133   │\n",
       "│ 3   │ 0     │ 0                   │ 61    │\n",
       "│ 4   │ 0     │ 1                   │ 44    │"
      ]
     },
     "execution_count": 53,
     "metadata": {},
     "output_type": "execute_result"
    }
   ],
   "source": [
    "combine(groupby(df, [:sex, :high_blood_pressure]), nrow => :count)"
   ]
  },
  {
   "cell_type": "code",
   "execution_count": 54,
   "metadata": {},
   "outputs": [
    {
     "data": {
      "text/html": [
       "<table class=\"data-frame\"><thead><tr><th></th><th>sex</th><th>smoking</th><th>count</th></tr><tr><th></th><th>Int64</th><th>Int64</th><th>Int64</th></tr></thead><tbody><p>4 rows × 3 columns</p><tr><th>1</th><td>1</td><td>0</td><td>102</td></tr><tr><th>2</th><td>1</td><td>1</td><td>92</td></tr><tr><th>3</th><td>0</td><td>0</td><td>101</td></tr><tr><th>4</th><td>0</td><td>1</td><td>4</td></tr></tbody></table>"
      ],
      "text/latex": [
       "\\begin{tabular}{r|ccc}\n",
       "\t& sex & smoking & count\\\\\n",
       "\t\\hline\n",
       "\t& Int64 & Int64 & Int64\\\\\n",
       "\t\\hline\n",
       "\t1 & 1 & 0 & 102 \\\\\n",
       "\t2 & 1 & 1 & 92 \\\\\n",
       "\t3 & 0 & 0 & 101 \\\\\n",
       "\t4 & 0 & 1 & 4 \\\\\n",
       "\\end{tabular}\n"
      ],
      "text/plain": [
       "4×3 DataFrame\n",
       "│ Row │ sex   │ smoking │ count │\n",
       "│     │ \u001b[90mInt64\u001b[39m │ \u001b[90mInt64\u001b[39m   │ \u001b[90mInt64\u001b[39m │\n",
       "├─────┼───────┼─────────┼───────┤\n",
       "│ 1   │ 1     │ 0       │ 102   │\n",
       "│ 2   │ 1     │ 1       │ 92    │\n",
       "│ 3   │ 0     │ 0       │ 101   │\n",
       "│ 4   │ 0     │ 1       │ 4     │"
      ]
     },
     "execution_count": 54,
     "metadata": {},
     "output_type": "execute_result"
    }
   ],
   "source": [
    "combine(groupby(df, [:sex, :smoking]), nrow => :count)"
   ]
  },
  {
   "cell_type": "code",
   "execution_count": 55,
   "metadata": {},
   "outputs": [
    {
     "data": {
      "text/html": [
       "<table class=\"data-frame\"><thead><tr><th></th><th>sex</th><th>diabetes</th><th>count</th></tr><tr><th></th><th>Int64</th><th>Int64</th><th>Int64</th></tr></thead><tbody><p>4 rows × 3 columns</p><tr><th>1</th><td>1</td><td>0</td><td>124</td></tr><tr><th>2</th><td>0</td><td>1</td><td>55</td></tr><tr><th>3</th><td>1</td><td>1</td><td>70</td></tr><tr><th>4</th><td>0</td><td>0</td><td>50</td></tr></tbody></table>"
      ],
      "text/latex": [
       "\\begin{tabular}{r|ccc}\n",
       "\t& sex & diabetes & count\\\\\n",
       "\t\\hline\n",
       "\t& Int64 & Int64 & Int64\\\\\n",
       "\t\\hline\n",
       "\t1 & 1 & 0 & 124 \\\\\n",
       "\t2 & 0 & 1 & 55 \\\\\n",
       "\t3 & 1 & 1 & 70 \\\\\n",
       "\t4 & 0 & 0 & 50 \\\\\n",
       "\\end{tabular}\n"
      ],
      "text/plain": [
       "4×3 DataFrame\n",
       "│ Row │ sex   │ diabetes │ count │\n",
       "│     │ \u001b[90mInt64\u001b[39m │ \u001b[90mInt64\u001b[39m    │ \u001b[90mInt64\u001b[39m │\n",
       "├─────┼───────┼──────────┼───────┤\n",
       "│ 1   │ 1     │ 0        │ 124   │\n",
       "│ 2   │ 0     │ 1        │ 55    │\n",
       "│ 3   │ 1     │ 1        │ 70    │\n",
       "│ 4   │ 0     │ 0        │ 50    │"
      ]
     },
     "execution_count": 55,
     "metadata": {},
     "output_type": "execute_result"
    }
   ],
   "source": [
    "combine(groupby(df, [:sex, :diabetes]), nrow => :count)"
   ]
  }
 ],
 "metadata": {
  "kernelspec": {
   "display_name": "Julia 1.5.0",
   "language": "julia",
   "name": "julia-1.5"
  },
  "language_info": {
   "file_extension": ".jl",
   "mimetype": "application/julia",
   "name": "julia",
   "version": "1.5.0"
  }
 },
 "nbformat": 4,
 "nbformat_minor": 4
}
